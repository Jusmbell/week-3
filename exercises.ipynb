{
 "cells": [
  {
   "cell_type": "markdown",
   "id": "0dead82f",
   "metadata": {},
   "source": [
    "<font color='darkred'> Unless otherwise noted, **this notebook will not be reviewed or autograded.**</font> You are welcome to use it for scratchwork, but **only the files listed in the exercises will be checked.**\n",
    "\n",
    "---\n",
    "\n",
    "# Exercises\n",
    "\n",
    "For these exercises, add your functions to the *apputil\\.py* file. If you like, you're welcome to adjust the *app\\.py* file, but it is not required."
   ]
  },
  {
   "cell_type": "markdown",
   "id": "a7ef09a6",
   "metadata": {},
   "source": [
    "## Notes on Recursion\n",
    "\n",
    "A [recursive function](https://www.w3schools.com/python/gloss_python_function_recursion.asp) is one which calls itself.\n",
    "\n",
    "1. When the function is called, your CPU runs through each line of code until the function needs to be called again.\n",
    "2. At that point, all variables are saved in memory, and the function runs through each line of code again until the function is called (again, but with a different passed argument), and so on.\n",
    "3. Eventually, this process will stop at the \"bottom of the **stack**\", where the function doesn't get a chance to call itself again (likely because of some condition un/met by the latest passed argument).\n",
    "4. Then, your CPU will work its way back up the stack to the final result. For example, take a look at [this visual example](https://realpython.com/python-recursion/#calculate-factorial) of calculating 4!.\n",
    "\n",
    "When you write these functions, keep two things in mind:\n",
    "\n",
    "- You will need a built-in stopping point (i.e., the \"bottom\"), where your function returns some result before it calls itself.\n",
    "- **Don't think too hard about this.** Recursion can be perplexing to conceptualize when writing the code. So, when you call the function inside the function, think about it as a magical \"hidden\" function that has already done what you want it to do.\n",
    "- [Python Tutor](https://pythontutor.com/) ([editor](https://pythontutor.com/visualize.html#mode=edit)) can be a helpful resource for this exercise!\n",
    "\n",
    "## Exercise 1\n",
    "\n",
    "The Fibonacci Series starts with 0 and 1. Each of the following numbers are the sum of the previous two numbers in the series:\n",
    "\n",
    "`0 1 1 2 3 5 8 13 21 34 ...`\n",
    "\n",
    "So, `fib(9) = 34`.\n",
    "\n",
    "Write a recursive function (`fib`) that, given `n`, will return the `n`th number of the Fibonacci Series.\n",
    "\n",
    "*Test your function using Google or any other tool that can calculate the Fibonacci Series.*"
   ]
  },
  {
   "cell_type": "code",
   "execution_count": 11,
   "id": "10b9210f",
   "metadata": {},
   "outputs": [
    {
     "data": {
      "text/plain": [
       "34"
      ]
     },
     "execution_count": 11,
     "metadata": {},
     "output_type": "execute_result"
    }
   ],
   "source": [
    "def fib(n: int) -> int:\n",
    "    if not isinstance(n, int):\n",
    "        raise ValueError(\"n must be an integer\")\n",
    "    if n < 0:\n",
    "        raise ValueError(\"n must be >= 0\")\n",
    "\n",
    "    if n in (0, 1):\n",
    "        return n\n",
    "\n",
    "    return fib(n - 1) + fib(n - 2)\n",
    "\n",
    "\n",
    "fib(9)\n"
   ]
  },
  {
   "cell_type": "markdown",
   "id": "4bef64e9",
   "metadata": {},
   "source": [
    "\n",
    "## Exercise 2\n",
    "\n",
    "Write a (single) recursive function, `to_binary()`, that [converts](https://en.wikipedia.org/wiki/Binary_number#Conversion_to_and_from_other_numeral_systems) an integer into its [binary](https://en.wikipedia.org/wiki/Binary_number) representation. So, for example:\n",
    "\n",
    "```python\n",
    "to_binary(2)   -->  10\n",
    "to_binary(12)  -->  1100\n",
    "```\n",
    "\n",
    "*Note: you can test your function with the built in `bin()` function.*"
   ]
  },
  {
   "cell_type": "code",
   "execution_count": 12,
   "id": "eb033460",
   "metadata": {},
   "outputs": [
    {
     "data": {
      "text/plain": [
       "'10'"
      ]
     },
     "execution_count": 12,
     "metadata": {},
     "output_type": "execute_result"
    }
   ],
   "source": [
    "def to_binary(n: int) -> str:\n",
    "    \"\"\"Return the binary (base-2) representation of a non-negative integer.\n",
    "\n",
    "    Uses a single recursive function. For example:\n",
    "        to_binary(2)  -> \"10\"\n",
    "        to_binary(12) -> \"1100\"\n",
    "\n",
    "    Args:\n",
    "        n: Integer to convert. Must be >= 0.\n",
    "\n",
    "    Returns:\n",
    "        Binary string without the '0b' prefix.\n",
    "\n",
    "    Raises:\n",
    "        ValueError: If n is negative or not an integer.\n",
    "    \"\"\"\n",
    "    if not isinstance(n, int):\n",
    "        raise ValueError(\"n must be an integer\")\n",
    "    if n < 0:\n",
    "        raise ValueError(\"n must be >= 0\")\n",
    "\n",
    "    if n in (0, 1):\n",
    "        return str(n)\n",
    "\n",
    "    return to_binary(n // 2) + str(n % 2)\n",
    "\n",
    "to_binary(2)"
   ]
  },
  {
   "cell_type": "markdown",
   "id": "dd991538",
   "metadata": {},
   "source": [
    "## Exercise 3 \n",
    "\n",
    "Use the raw Bellevue Almshouse Dataset (`df_bellevue`) extracted at the top of the lab (i.e., with `pd.read_csv ...`).\n",
    "\n",
    "**Write a function for each of the following tasks. Name these functions `task_i()`** (i.e., without any input arguments).\n",
    "\n",
    "1. Return a list of all column names, *sorted* such that the first column has the *least* missing values, and the last column has the *most* missing values (use the raw column names).\n",
    "   - *Note: there is an issue with the `gender` column you'll need to remedy first ...*\n",
    "2. Return a **data frame** with two columns:\n",
    "   - the year (for each year in the data), `year`\n",
    "   - the total number of entries (immigrant admissions) for each year, `total_admissions`\n",
    "3. Return a **series** with:\n",
    "   - Index: gender (for each gender in the data)\n",
    "   - Values: the average age for the indexed gender.\n",
    "4. Return a list of the 5 most common professions *in order of prevalence* (so, the most common is first).\n",
    "\n",
    "For each of these, if there are messy data issues, use the `print` statement to explain.\n"
   ]
  },
  {
   "cell_type": "code",
   "execution_count": 18,
   "id": "5993ce51",
   "metadata": {},
   "outputs": [],
   "source": [
    "import pandas as pd\n",
    "\n",
    "\n",
    "def task_1():\n",
    "    \"\"\"Column names sorted by fewest -> most missing values.\"\"\"\n",
    "    df = df_bellevue.copy()\n",
    "\n",
    "    if \"gender\" in df.columns:\n",
    "        df[\"gender\"] = (\n",
    "            df[\"gender\"].astype(\"string\").str.strip().str.lower()\n",
    "            .replace({\"\": pd.NA, \"na\": pd.NA, \"n/a\": pd.NA, \"none\": pd.NA})\n",
    "            .replace({\n",
    "                \"m\": \"male\", \"h\": \"male\", \"b\": \"male\", \"boy\": \"male\", \"man\": \"male\",\n",
    "                \"f\": \"female\", \"w\": \"female\", \"g\": \"female\", \"girl\": \"female\", \"woman\": \"female\"\n",
    "            })\n",
    "        )\n",
    "\n",
    "    return df.isna().sum().sort_values().index.tolist()\n",
    "\n",
    "\n",
    "def task_2():\n",
    "    \"\"\"DataFrame with 'year' and 'total_admissions'.\"\"\"\n",
    "    df = df_bellevue.copy()\n",
    "\n",
    "    if \"year\" in df.columns:\n",
    "        year = pd.to_numeric(df[\"year\"], errors=\"coerce\")\n",
    "    elif \"date_in\" in df.columns:\n",
    "        year = pd.to_datetime(df[\"date_in\"], errors=\"coerce\").dt.year\n",
    "    else:\n",
    "        print(\"Need 'year' or 'date_in'.\")\n",
    "        return pd.DataFrame({\"year\": [], \"total_admissions\": []})\n",
    "\n",
    "    out = (\n",
    "        year.dropna().astype(int).to_frame(\"year\")\n",
    "        .groupby(\"year\").size().reset_index(name=\"total_admissions\")\n",
    "        .sort_values(\"year\").reset_index(drop=True)\n",
    "    )\n",
    "    return out\n",
    "\n",
    "\n",
    "def task_3():\n",
    "    \"\"\"Series: average age by gender.\"\"\"\n",
    "    df = df_bellevue.copy()\n",
    "\n",
    "    if \"gender\" not in df.columns or \"age\" not in df.columns:\n",
    "        print(\"Need 'gender' and 'age'.\")\n",
    "        return pd.Series(dtype=\"float64\", name=\"age\")\n",
    "\n",
    "    gender = (\n",
    "        df[\"gender\"].astype(\"string\").str.strip().str.lower()\n",
    "        .replace({\"\": pd.NA, \"na\": pd.NA, \"n/a\": pd.NA, \"none\": pd.NA})\n",
    "        .replace({\n",
    "            \"m\": \"male\", \"h\": \"male\", \"b\": \"male\", \"boy\": \"male\", \"man\": \"male\",\n",
    "            \"f\": \"female\", \"w\": \"female\", \"g\": \"female\", \"girl\": \"female\", \"woman\": \"female\"\n",
    "        })\n",
    "    )\n",
    "    age = pd.to_numeric(df[\"age\"], errors=\"coerce\")\n",
    "\n",
    "    avg = (\n",
    "        pd.DataFrame({\"gender\": gender, \"age\": age})\n",
    "        .dropna().groupby(\"gender\")[\"age\"].mean().round(6)\n",
    "    )\n",
    "    return avg\n",
    "\n",
    "\n",
    "def task_4():\n",
    "    \"\"\"Top 5 professions (most common first).\"\"\"\n",
    "    df = df_bellevue.copy()\n",
    "\n",
    "    col = \"profession\"\n",
    "    if col not in df.columns:\n",
    "        if \"occupation\" in df.columns:\n",
    "            col = \"occupation\"\n",
    "        else:\n",
    "            print(\"No profession/occupation column.\")\n",
    "            return []\n",
    "\n",
    "    s = df[col].astype(\"string\").str.strip().str.lower().replace({\"\": pd.NA}).dropna()\n",
    "    return s.value_counts().head(5).index.tolist()\n"
   ]
  },
  {
   "cell_type": "code",
   "execution_count": 19,
   "id": "91655604",
   "metadata": {},
   "outputs": [
    {
     "name": "stdout",
     "output_type": "stream",
     "text": [
      "Task 1 (cols by missingness):\n",
      "['date_in', 'last_name', 'gender', 'first_name', 'age', 'profession', 'disease', 'children']\n",
      "\n",
      "Task 2 (year + total_admissions):\n",
      "   year  total_admissions\n",
      "0  1846              3073\n",
      "1  1847              6511\n",
      "\n",
      "Task 3 (avg age by gender):\n",
      "gender\n",
      "female    28.738328\n",
      "male      31.818334\n",
      "Name: age, dtype: float64\n",
      "\n",
      "Task 4 (top 5 professions):\n",
      "['laborer', 'married', 'spinster', 'widow', 'shoemaker']\n"
     ]
    }
   ],
   "source": [
    "import pandas as pd\n",
    "# load your CSV once (adjust path)\n",
    "\n",
    "url = 'https://github.com/melaniewalsh/Intro-Cultural-Analytics/raw/master/book/data/bellevue_almshouse_modified.csv'\n",
    "\n",
    "df_bellevue = pd.read_csv(url)\n",
    "# df_bellevue = pd.read_csv('./data/.../mydata.csv')  # you can also reference locally stored data\n",
    "\n",
    "# now call the functions you defined\n",
    "print(\"Task 1 (cols by missingness):\")\n",
    "print(task_1())\n",
    "\n",
    "print(\"\\nTask 2 (year + total_admissions):\")\n",
    "print(task_2().head())  # .head() so it’s short\n",
    "\n",
    "print(\"\\nTask 3 (avg age by gender):\")\n",
    "print(task_3())\n",
    "\n",
    "print(\"\\nTask 4 (top 5 professions):\")\n",
    "print(task_4())\n"
   ]
  }
 ],
 "metadata": {
  "kernelspec": {
   "display_name": "base",
   "language": "python",
   "name": "python3"
  },
  "language_info": {
   "codemirror_mode": {
    "name": "ipython",
    "version": 3
   },
   "file_extension": ".py",
   "mimetype": "text/x-python",
   "name": "python",
   "nbconvert_exporter": "python",
   "pygments_lexer": "ipython3",
   "version": "3.11.11"
  }
 },
 "nbformat": 4,
 "nbformat_minor": 5
}
